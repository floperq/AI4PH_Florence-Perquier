{
 "cells": [
  {
   "cell_type": "code",
   "execution_count": 1,
   "id": "b3d7224c-5f70-4581-8a8e-f37bdae0c197",
   "metadata": {},
   "outputs": [
    {
     "name": "stdout",
     "output_type": "stream",
     "text": [
      "Requirement already satisfied: bs4 in c:\\users\\florence_perquier\\appdata\\local\\anaconda3\\lib\\site-packages (0.0.2)\n",
      "Requirement already satisfied: beautifulsoup4 in c:\\users\\florence_perquier\\appdata\\local\\anaconda3\\lib\\site-packages (from bs4) (4.12.3)\n",
      "Requirement already satisfied: soupsieve>1.2 in c:\\users\\florence_perquier\\appdata\\local\\anaconda3\\lib\\site-packages (from beautifulsoup4->bs4) (2.5)\n",
      "Requirement already satisfied: selenium in c:\\users\\florence_perquier\\appdata\\local\\anaconda3\\lib\\site-packages (4.29.0)\n",
      "Requirement already satisfied: urllib3<3,>=1.26 in c:\\users\\florence_perquier\\appdata\\local\\anaconda3\\lib\\site-packages (from urllib3[socks]<3,>=1.26->selenium) (2.2.3)\n",
      "Requirement already satisfied: trio~=0.17 in c:\\users\\florence_perquier\\appdata\\local\\anaconda3\\lib\\site-packages (from selenium) (0.29.0)\n",
      "Requirement already satisfied: trio-websocket~=0.9 in c:\\users\\florence_perquier\\appdata\\local\\anaconda3\\lib\\site-packages (from selenium) (0.12.1)\n",
      "Requirement already satisfied: certifi>=2021.10.8 in c:\\users\\florence_perquier\\appdata\\local\\anaconda3\\lib\\site-packages (from selenium) (2024.8.30)\n",
      "Requirement already satisfied: typing_extensions~=4.9 in c:\\users\\florence_perquier\\appdata\\local\\anaconda3\\lib\\site-packages (from selenium) (4.11.0)\n",
      "Requirement already satisfied: websocket-client~=1.8 in c:\\users\\florence_perquier\\appdata\\local\\anaconda3\\lib\\site-packages (from selenium) (1.8.0)\n",
      "Requirement already satisfied: attrs>=23.2.0 in c:\\users\\florence_perquier\\appdata\\local\\anaconda3\\lib\\site-packages (from trio~=0.17->selenium) (25.1.0)\n",
      "Requirement already satisfied: sortedcontainers in c:\\users\\florence_perquier\\appdata\\local\\anaconda3\\lib\\site-packages (from trio~=0.17->selenium) (2.4.0)\n",
      "Requirement already satisfied: idna in c:\\users\\florence_perquier\\appdata\\local\\anaconda3\\lib\\site-packages (from trio~=0.17->selenium) (3.7)\n",
      "Requirement already satisfied: outcome in c:\\users\\florence_perquier\\appdata\\local\\anaconda3\\lib\\site-packages (from trio~=0.17->selenium) (1.3.0.post0)\n",
      "Requirement already satisfied: sniffio>=1.3.0 in c:\\users\\florence_perquier\\appdata\\local\\anaconda3\\lib\\site-packages (from trio~=0.17->selenium) (1.3.0)\n",
      "Requirement already satisfied: cffi>=1.14 in c:\\users\\florence_perquier\\appdata\\local\\anaconda3\\lib\\site-packages (from trio~=0.17->selenium) (1.17.1)\n",
      "Requirement already satisfied: wsproto>=0.14 in c:\\users\\florence_perquier\\appdata\\local\\anaconda3\\lib\\site-packages (from trio-websocket~=0.9->selenium) (1.2.0)\n",
      "Requirement already satisfied: pysocks!=1.5.7,<2.0,>=1.5.6 in c:\\users\\florence_perquier\\appdata\\local\\anaconda3\\lib\\site-packages (from urllib3[socks]<3,>=1.26->selenium) (1.7.1)\n",
      "Requirement already satisfied: pycparser in c:\\users\\florence_perquier\\appdata\\local\\anaconda3\\lib\\site-packages (from cffi>=1.14->trio~=0.17->selenium) (2.21)\n",
      "Requirement already satisfied: h11<1,>=0.9.0 in c:\\users\\florence_perquier\\appdata\\local\\anaconda3\\lib\\site-packages (from wsproto>=0.14->trio-websocket~=0.9->selenium) (0.14.0)\n",
      "Requirement already satisfied: pandas in c:\\users\\florence_perquier\\appdata\\local\\anaconda3\\lib\\site-packages (2.2.2)\n",
      "Requirement already satisfied: numpy>=1.26.0 in c:\\users\\florence_perquier\\appdata\\local\\anaconda3\\lib\\site-packages (from pandas) (1.26.4)\n",
      "Requirement already satisfied: python-dateutil>=2.8.2 in c:\\users\\florence_perquier\\appdata\\local\\anaconda3\\lib\\site-packages (from pandas) (2.9.0.post0)\n",
      "Requirement already satisfied: pytz>=2020.1 in c:\\users\\florence_perquier\\appdata\\local\\anaconda3\\lib\\site-packages (from pandas) (2024.1)\n",
      "Requirement already satisfied: tzdata>=2022.7 in c:\\users\\florence_perquier\\appdata\\local\\anaconda3\\lib\\site-packages (from pandas) (2023.3)\n",
      "Requirement already satisfied: six>=1.5 in c:\\users\\florence_perquier\\appdata\\local\\anaconda3\\lib\\site-packages (from python-dateutil>=2.8.2->pandas) (1.16.0)\n",
      "Requirement already satisfied: html5lib in c:\\users\\florence_perquier\\appdata\\local\\anaconda3\\lib\\site-packages (1.1)\n",
      "Requirement already satisfied: six>=1.9 in c:\\users\\florence_perquier\\appdata\\local\\anaconda3\\lib\\site-packages (from html5lib) (1.16.0)\n",
      "Requirement already satisfied: webencodings in c:\\users\\florence_perquier\\appdata\\local\\anaconda3\\lib\\site-packages (from html5lib) (0.5.1)\n",
      "Requirement already satisfied: matplotlib in c:\\users\\florence_perquier\\appdata\\local\\anaconda3\\lib\\site-packages (3.9.2)\n",
      "Requirement already satisfied: contourpy>=1.0.1 in c:\\users\\florence_perquier\\appdata\\local\\anaconda3\\lib\\site-packages (from matplotlib) (1.2.0)\n",
      "Requirement already satisfied: cycler>=0.10 in c:\\users\\florence_perquier\\appdata\\local\\anaconda3\\lib\\site-packages (from matplotlib) (0.11.0)\n",
      "Requirement already satisfied: fonttools>=4.22.0 in c:\\users\\florence_perquier\\appdata\\local\\anaconda3\\lib\\site-packages (from matplotlib) (4.51.0)\n",
      "Requirement already satisfied: kiwisolver>=1.3.1 in c:\\users\\florence_perquier\\appdata\\local\\anaconda3\\lib\\site-packages (from matplotlib) (1.4.4)\n",
      "Requirement already satisfied: numpy>=1.23 in c:\\users\\florence_perquier\\appdata\\local\\anaconda3\\lib\\site-packages (from matplotlib) (1.26.4)\n",
      "Requirement already satisfied: packaging>=20.0 in c:\\users\\florence_perquier\\appdata\\local\\anaconda3\\lib\\site-packages (from matplotlib) (24.1)\n",
      "Requirement already satisfied: pillow>=8 in c:\\users\\florence_perquier\\appdata\\local\\anaconda3\\lib\\site-packages (from matplotlib) (10.4.0)\n",
      "Requirement already satisfied: pyparsing>=2.3.1 in c:\\users\\florence_perquier\\appdata\\local\\anaconda3\\lib\\site-packages (from matplotlib) (3.1.2)\n",
      "Requirement already satisfied: python-dateutil>=2.7 in c:\\users\\florence_perquier\\appdata\\local\\anaconda3\\lib\\site-packages (from matplotlib) (2.9.0.post0)\n",
      "Requirement already satisfied: six>=1.5 in c:\\users\\florence_perquier\\appdata\\local\\anaconda3\\lib\\site-packages (from python-dateutil>=2.7->matplotlib) (1.16.0)\n",
      "Requirement already satisfied: scikit-learn in c:\\users\\florence_perquier\\appdata\\local\\anaconda3\\lib\\site-packages (1.5.1)\n",
      "Requirement already satisfied: numpy>=1.19.5 in c:\\users\\florence_perquier\\appdata\\local\\anaconda3\\lib\\site-packages (from scikit-learn) (1.26.4)\n",
      "Requirement already satisfied: scipy>=1.6.0 in c:\\users\\florence_perquier\\appdata\\local\\anaconda3\\lib\\site-packages (from scikit-learn) (1.13.1)\n",
      "Requirement already satisfied: joblib>=1.2.0 in c:\\users\\florence_perquier\\appdata\\local\\anaconda3\\lib\\site-packages (from scikit-learn) (1.4.2)\n",
      "Requirement already satisfied: threadpoolctl>=3.1.0 in c:\\users\\florence_perquier\\appdata\\local\\anaconda3\\lib\\site-packages (from scikit-learn) (3.5.0)\n",
      "Requirement already satisfied: lxml in c:\\users\\florence_perquier\\appdata\\local\\anaconda3\\lib\\site-packages (5.2.1)\n"
     ]
    }
   ],
   "source": [
    "!pip install bs4\n",
    "!pip install selenium\n",
    "!pip install pandas\n",
    "!pip install html5lib\n",
    "!pip install matplotlib\n",
    "!pip install scikit-learn\n",
    "!pip install lxml"
   ]
  },
  {
   "cell_type": "code",
   "execution_count": 2,
   "id": "62f8283c-84c0-4f9e-bc73-fe63e5d329f3",
   "metadata": {},
   "outputs": [
    {
     "name": "stdout",
     "output_type": "stream",
     "text": [
      "Requirement already satisfied: requests in c:\\users\\florence_perquier\\appdata\\local\\anaconda3\\lib\\site-packages (2.32.3)\n",
      "Requirement already satisfied: charset-normalizer<4,>=2 in c:\\users\\florence_perquier\\appdata\\local\\anaconda3\\lib\\site-packages (from requests) (3.3.2)\n",
      "Requirement already satisfied: idna<4,>=2.5 in c:\\users\\florence_perquier\\appdata\\local\\anaconda3\\lib\\site-packages (from requests) (3.7)\n",
      "Requirement already satisfied: urllib3<3,>=1.21.1 in c:\\users\\florence_perquier\\appdata\\local\\anaconda3\\lib\\site-packages (from requests) (2.2.3)\n",
      "Requirement already satisfied: certifi>=2017.4.17 in c:\\users\\florence_perquier\\appdata\\local\\anaconda3\\lib\\site-packages (from requests) (2024.8.30)\n",
      "Note: you may need to restart the kernel to use updated packages.\n"
     ]
    }
   ],
   "source": [
    "pip install requests"
   ]
  },
  {
   "cell_type": "code",
   "execution_count": 3,
   "id": "d2b247db-f37c-423d-be69-944a52d17adf",
   "metadata": {},
   "outputs": [
    {
     "name": "stdout",
     "output_type": "stream",
     "text": [
      "Requirement already satisfied: pandas in c:\\users\\florence_perquier\\appdata\\local\\anaconda3\\lib\\site-packages (2.2.2)\n",
      "Requirement already satisfied: numpy>=1.26.0 in c:\\users\\florence_perquier\\appdata\\local\\anaconda3\\lib\\site-packages (from pandas) (1.26.4)\n",
      "Requirement already satisfied: python-dateutil>=2.8.2 in c:\\users\\florence_perquier\\appdata\\local\\anaconda3\\lib\\site-packages (from pandas) (2.9.0.post0)\n",
      "Requirement already satisfied: pytz>=2020.1 in c:\\users\\florence_perquier\\appdata\\local\\anaconda3\\lib\\site-packages (from pandas) (2024.1)\n",
      "Requirement already satisfied: tzdata>=2022.7 in c:\\users\\florence_perquier\\appdata\\local\\anaconda3\\lib\\site-packages (from pandas) (2023.3)\n",
      "Requirement already satisfied: six>=1.5 in c:\\users\\florence_perquier\\appdata\\local\\anaconda3\\lib\\site-packages (from python-dateutil>=2.8.2->pandas) (1.16.0)\n",
      "Note: you may need to restart the kernel to use updated packages.\n"
     ]
    }
   ],
   "source": [
    "pip install pandas"
   ]
  },
  {
   "cell_type": "code",
   "execution_count": 4,
   "id": "76a527af-652d-4431-ab34-914ece66ffa3",
   "metadata": {},
   "outputs": [],
   "source": [
    "# Import database\n",
    "import requests"
   ]
  },
  {
   "cell_type": "code",
   "execution_count": 5,
   "id": "8c7854f2-8cd2-45d7-8ae3-c5966d5ded59",
   "metadata": {},
   "outputs": [],
   "source": [
    "url = \"https://data.ontario.ca/dataset/c43fd28d-3288-4ad2-87f1-a95abac706b8/resource/3273c977-416f-407e-86d2-1e45a7261e7b/download/deaths_fatality_type.csv\"\n",
    "filename = 'deaths_fatality_type.csv'\n",
    "headers = {'User-Agent': 'Mozilla/5.0 (Macintosh; Intel Mac OS X 10_10_1) AppleWebKit/537.36 (KHTML, like Gecko) Chrome/39.0.2171.95 Safari/537.36'}\n",
    "response = requests.get(url, headers=headers)\n",
    "\n",
    "with open(filename, mode=\"wb\") as file:\n",
    "    file.write(response.content)"
   ]
  },
  {
   "cell_type": "code",
   "execution_count": 6,
   "id": "784d65f1-d5d2-4dbe-9420-da6c4165b478",
   "metadata": {},
   "outputs": [],
   "source": [
    "import pandas as pd\n",
    "filename = 'deaths_fatality_type.csv'\n",
    "all_cases = pd.read_csv(filename)"
   ]
  },
  {
   "cell_type": "code",
   "execution_count": 7,
   "id": "bc88f080-dd6d-4c7d-8aeb-d9a834cdcb80",
   "metadata": {},
   "outputs": [
    {
     "data": {
      "text/html": [
       "<div>\n",
       "<style scoped>\n",
       "    .dataframe tbody tr th:only-of-type {\n",
       "        vertical-align: middle;\n",
       "    }\n",
       "\n",
       "    .dataframe tbody tr th {\n",
       "        vertical-align: top;\n",
       "    }\n",
       "\n",
       "    .dataframe thead th {\n",
       "        text-align: right;\n",
       "    }\n",
       "</style>\n",
       "<table border=\"1\" class=\"dataframe\">\n",
       "  <thead>\n",
       "    <tr style=\"text-align: right;\">\n",
       "      <th></th>\n",
       "      <th>date</th>\n",
       "      <th>deaths_total</th>\n",
       "      <th>death_covid</th>\n",
       "      <th>death_covid_contrib</th>\n",
       "      <th>death_unknown_missing</th>\n",
       "    </tr>\n",
       "  </thead>\n",
       "  <tbody>\n",
       "    <tr>\n",
       "      <th>0</th>\n",
       "      <td>2020-04-01</td>\n",
       "      <td>17</td>\n",
       "      <td>12</td>\n",
       "      <td>2</td>\n",
       "      <td>3</td>\n",
       "    </tr>\n",
       "    <tr>\n",
       "      <th>1</th>\n",
       "      <td>2020-04-02</td>\n",
       "      <td>30</td>\n",
       "      <td>24</td>\n",
       "      <td>2</td>\n",
       "      <td>4</td>\n",
       "    </tr>\n",
       "    <tr>\n",
       "      <th>2</th>\n",
       "      <td>2020-04-03</td>\n",
       "      <td>21</td>\n",
       "      <td>14</td>\n",
       "      <td>2</td>\n",
       "      <td>5</td>\n",
       "    </tr>\n",
       "    <tr>\n",
       "      <th>3</th>\n",
       "      <td>2020-04-04</td>\n",
       "      <td>30</td>\n",
       "      <td>23</td>\n",
       "      <td>2</td>\n",
       "      <td>5</td>\n",
       "    </tr>\n",
       "    <tr>\n",
       "      <th>4</th>\n",
       "      <td>2020-04-05</td>\n",
       "      <td>28</td>\n",
       "      <td>19</td>\n",
       "      <td>3</td>\n",
       "      <td>6</td>\n",
       "    </tr>\n",
       "  </tbody>\n",
       "</table>\n",
       "</div>"
      ],
      "text/plain": [
       "         date  deaths_total  death_covid  death_covid_contrib  \\\n",
       "0  2020-04-01            17           12                    2   \n",
       "1  2020-04-02            30           24                    2   \n",
       "2  2020-04-03            21           14                    2   \n",
       "3  2020-04-04            30           23                    2   \n",
       "4  2020-04-05            28           19                    3   \n",
       "\n",
       "   death_unknown_missing  \n",
       "0                      3  \n",
       "1                      4  \n",
       "2                      5  \n",
       "3                      5  \n",
       "4                      6  "
      ]
     },
     "execution_count": 7,
     "metadata": {},
     "output_type": "execute_result"
    }
   ],
   "source": [
    "# Inspect the data\n",
    "all_cases.head()"
   ]
  },
  {
   "cell_type": "code",
   "execution_count": 8,
   "id": "e09e9834-5f91-4c13-acdc-26ae09242a02",
   "metadata": {},
   "outputs": [
    {
     "data": {
      "text/html": [
       "<div>\n",
       "<style scoped>\n",
       "    .dataframe tbody tr th:only-of-type {\n",
       "        vertical-align: middle;\n",
       "    }\n",
       "\n",
       "    .dataframe tbody tr th {\n",
       "        vertical-align: top;\n",
       "    }\n",
       "\n",
       "    .dataframe thead th {\n",
       "        text-align: right;\n",
       "    }\n",
       "</style>\n",
       "<table border=\"1\" class=\"dataframe\">\n",
       "  <thead>\n",
       "    <tr style=\"text-align: right;\">\n",
       "      <th></th>\n",
       "      <th>date</th>\n",
       "      <th>deaths_total</th>\n",
       "      <th>death_covid</th>\n",
       "      <th>death_covid_contrib</th>\n",
       "      <th>death_unknown_missing</th>\n",
       "    </tr>\n",
       "  </thead>\n",
       "  <tbody>\n",
       "    <tr>\n",
       "      <th>1690</th>\n",
       "      <td>2024-11-16</td>\n",
       "      <td>1</td>\n",
       "      <td>0</td>\n",
       "      <td>1</td>\n",
       "      <td>0</td>\n",
       "    </tr>\n",
       "    <tr>\n",
       "      <th>1691</th>\n",
       "      <td>2024-11-17</td>\n",
       "      <td>0</td>\n",
       "      <td>0</td>\n",
       "      <td>0</td>\n",
       "      <td>0</td>\n",
       "    </tr>\n",
       "    <tr>\n",
       "      <th>1692</th>\n",
       "      <td>2024-11-18</td>\n",
       "      <td>0</td>\n",
       "      <td>0</td>\n",
       "      <td>0</td>\n",
       "      <td>0</td>\n",
       "    </tr>\n",
       "    <tr>\n",
       "      <th>1693</th>\n",
       "      <td>2024-11-19</td>\n",
       "      <td>0</td>\n",
       "      <td>0</td>\n",
       "      <td>0</td>\n",
       "      <td>0</td>\n",
       "    </tr>\n",
       "    <tr>\n",
       "      <th>1694</th>\n",
       "      <td>2024-11-20</td>\n",
       "      <td>0</td>\n",
       "      <td>0</td>\n",
       "      <td>0</td>\n",
       "      <td>0</td>\n",
       "    </tr>\n",
       "  </tbody>\n",
       "</table>\n",
       "</div>"
      ],
      "text/plain": [
       "            date  deaths_total  death_covid  death_covid_contrib  \\\n",
       "1690  2024-11-16             1            0                    1   \n",
       "1691  2024-11-17             0            0                    0   \n",
       "1692  2024-11-18             0            0                    0   \n",
       "1693  2024-11-19             0            0                    0   \n",
       "1694  2024-11-20             0            0                    0   \n",
       "\n",
       "      death_unknown_missing  \n",
       "1690                      0  \n",
       "1691                      0  \n",
       "1692                      0  \n",
       "1693                      0  \n",
       "1694                      0  "
      ]
     },
     "execution_count": 8,
     "metadata": {},
     "output_type": "execute_result"
    }
   ],
   "source": [
    "all_cases.tail()"
   ]
  },
  {
   "cell_type": "code",
   "execution_count": 9,
   "id": "013bfb2d-b92a-4c33-b631-f18cd330c972",
   "metadata": {},
   "outputs": [
    {
     "data": {
      "text/plain": [
       "1695"
      ]
     },
     "execution_count": 9,
     "metadata": {},
     "output_type": "execute_result"
    }
   ],
   "source": [
    "len(all_cases)"
   ]
  },
  {
   "cell_type": "code",
   "execution_count": 10,
   "id": "4bf89003-31d6-4f1e-9d57-89b2ef2d4020",
   "metadata": {},
   "outputs": [],
   "source": [
    "#Checking for missing values: Removing rows with missing data\n",
    "all_cases.dropna(inplace=True)"
   ]
  },
  {
   "cell_type": "code",
   "execution_count": 11,
   "id": "ea726d7a-e47a-4822-992b-37cff8fd843d",
   "metadata": {},
   "outputs": [
    {
     "data": {
      "text/plain": [
       "1695"
      ]
     },
     "execution_count": 11,
     "metadata": {},
     "output_type": "execute_result"
    }
   ],
   "source": [
    "len(all_cases)"
   ]
  },
  {
   "cell_type": "markdown",
   "id": "8a0c128f-f969-4893-9575-e9ef26e7786e",
   "metadata": {},
   "source": [
    "**No missing data!**"
   ]
  },
  {
   "cell_type": "markdown",
   "id": "a2e34479-f04b-4210-8586-c767dd23c5a9",
   "metadata": {},
   "source": [
    "## Statistics on daily numbers of deaths linked to Covid in Ontario on the period considered (from April 1st, 2020 to November 20th, 2024)"
   ]
  },
  {
   "cell_type": "code",
   "execution_count": 12,
   "id": "9ccfcbff-525c-4bae-900d-7ddca5f0781b",
   "metadata": {},
   "outputs": [],
   "source": [
    "# Creating a new variable describing the proportion of linked to Covid (attributable or contributing) in Ontario per day\n",
    "all_cases['death_link_covid'] = all_cases['death_covid'] + all_cases['death_covid_contrib']\n",
    "all_cases['prop_death_covid']= (all_cases['death_covid'] + all_cases['death_covid_contrib']) / all_cases['deaths_total'] "
   ]
  },
  {
   "cell_type": "code",
   "execution_count": 13,
   "id": "2fec9bf7-359e-4713-8983-2b3b4d9eabc0",
   "metadata": {},
   "outputs": [
    {
     "data": {
      "text/html": [
       "<div>\n",
       "<style scoped>\n",
       "    .dataframe tbody tr th:only-of-type {\n",
       "        vertical-align: middle;\n",
       "    }\n",
       "\n",
       "    .dataframe tbody tr th {\n",
       "        vertical-align: top;\n",
       "    }\n",
       "\n",
       "    .dataframe thead th {\n",
       "        text-align: right;\n",
       "    }\n",
       "</style>\n",
       "<table border=\"1\" class=\"dataframe\">\n",
       "  <thead>\n",
       "    <tr style=\"text-align: right;\">\n",
       "      <th></th>\n",
       "      <th>deaths_total</th>\n",
       "      <th>death_covid</th>\n",
       "      <th>death_covid_contrib</th>\n",
       "      <th>death_unknown_missing</th>\n",
       "      <th>death_link_covid</th>\n",
       "      <th>prop_death_covid</th>\n",
       "    </tr>\n",
       "  </thead>\n",
       "  <tbody>\n",
       "    <tr>\n",
       "      <th>count</th>\n",
       "      <td>1695.000000</td>\n",
       "      <td>1695.000000</td>\n",
       "      <td>1695.000000</td>\n",
       "      <td>1695.000000</td>\n",
       "      <td>1695.000000</td>\n",
       "      <td>1592.000000</td>\n",
       "    </tr>\n",
       "    <tr>\n",
       "      <th>mean</th>\n",
       "      <td>11.189971</td>\n",
       "      <td>7.824779</td>\n",
       "      <td>2.751622</td>\n",
       "      <td>0.613569</td>\n",
       "      <td>10.576401</td>\n",
       "      <td>0.957383</td>\n",
       "    </tr>\n",
       "    <tr>\n",
       "      <th>std</th>\n",
       "      <td>13.818627</td>\n",
       "      <td>10.168851</td>\n",
       "      <td>3.293623</td>\n",
       "      <td>1.423759</td>\n",
       "      <td>12.847665</td>\n",
       "      <td>0.099542</td>\n",
       "    </tr>\n",
       "    <tr>\n",
       "      <th>min</th>\n",
       "      <td>0.000000</td>\n",
       "      <td>0.000000</td>\n",
       "      <td>0.000000</td>\n",
       "      <td>0.000000</td>\n",
       "      <td>0.000000</td>\n",
       "      <td>0.000000</td>\n",
       "    </tr>\n",
       "    <tr>\n",
       "      <th>25%</th>\n",
       "      <td>2.000000</td>\n",
       "      <td>2.000000</td>\n",
       "      <td>0.000000</td>\n",
       "      <td>0.000000</td>\n",
       "      <td>2.000000</td>\n",
       "      <td>0.948049</td>\n",
       "    </tr>\n",
       "    <tr>\n",
       "      <th>50%</th>\n",
       "      <td>6.000000</td>\n",
       "      <td>4.000000</td>\n",
       "      <td>2.000000</td>\n",
       "      <td>0.000000</td>\n",
       "      <td>6.000000</td>\n",
       "      <td>1.000000</td>\n",
       "    </tr>\n",
       "    <tr>\n",
       "      <th>75%</th>\n",
       "      <td>14.000000</td>\n",
       "      <td>9.000000</td>\n",
       "      <td>4.000000</td>\n",
       "      <td>1.000000</td>\n",
       "      <td>13.000000</td>\n",
       "      <td>1.000000</td>\n",
       "    </tr>\n",
       "    <tr>\n",
       "      <th>max</th>\n",
       "      <td>87.000000</td>\n",
       "      <td>68.000000</td>\n",
       "      <td>22.000000</td>\n",
       "      <td>13.000000</td>\n",
       "      <td>83.000000</td>\n",
       "      <td>1.000000</td>\n",
       "    </tr>\n",
       "  </tbody>\n",
       "</table>\n",
       "</div>"
      ],
      "text/plain": [
       "       deaths_total  death_covid  death_covid_contrib  death_unknown_missing  \\\n",
       "count   1695.000000  1695.000000          1695.000000            1695.000000   \n",
       "mean      11.189971     7.824779             2.751622               0.613569   \n",
       "std       13.818627    10.168851             3.293623               1.423759   \n",
       "min        0.000000     0.000000             0.000000               0.000000   \n",
       "25%        2.000000     2.000000             0.000000               0.000000   \n",
       "50%        6.000000     4.000000             2.000000               0.000000   \n",
       "75%       14.000000     9.000000             4.000000               1.000000   \n",
       "max       87.000000    68.000000            22.000000              13.000000   \n",
       "\n",
       "       death_link_covid  prop_death_covid  \n",
       "count       1695.000000       1592.000000  \n",
       "mean          10.576401          0.957383  \n",
       "std           12.847665          0.099542  \n",
       "min            0.000000          0.000000  \n",
       "25%            2.000000          0.948049  \n",
       "50%            6.000000          1.000000  \n",
       "75%           13.000000          1.000000  \n",
       "max           83.000000          1.000000  "
      ]
     },
     "execution_count": 13,
     "metadata": {},
     "output_type": "execute_result"
    }
   ],
   "source": [
    "# Summary Statistic 1: Distribution of the number of death attributable to Covid19\n",
    "all_cases.describe()"
   ]
  },
  {
   "cell_type": "markdown",
   "id": "315b632d-f271-432e-a486-f72f50bde494",
   "metadata": {},
   "source": [
    "**On average, more than 95% of daily deaths were linked to Covid**"
   ]
  },
  {
   "cell_type": "code",
   "execution_count": 19,
   "id": "0a384ef0-c047-4a27-8c81-a200e20c2d61",
   "metadata": {},
   "outputs": [],
   "source": [
    "#Checking for missing values: Removing rows with missing data\n",
    "all_cases.dropna(inplace=True)"
   ]
  },
  {
   "cell_type": "code",
   "execution_count": 18,
   "id": "33a8a5a7-35fa-40dc-a638-aed0cae21575",
   "metadata": {},
   "outputs": [],
   "source": [
    "all_cases['date'] = pd.to_datetime(all_cases['date'])"
   ]
  },
  {
   "cell_type": "code",
   "execution_count": 77,
   "id": "67c6636f-3e07-4285-a466-fdb9ed46f51d",
   "metadata": {},
   "outputs": [],
   "source": [
    "all_cases['Death_Year'] = all_cases['date'].dt.year\n",
    "all_cases['Death_Month'] = all_cases['date'].dt.month"
   ]
  },
  {
   "cell_type": "code",
   "execution_count": 78,
   "id": "f73e6fc1-cd73-4d92-ac1b-627f15cc756a",
   "metadata": {},
   "outputs": [
    {
     "data": {
      "text/html": [
       "<div>\n",
       "<style scoped>\n",
       "    .dataframe tbody tr th:only-of-type {\n",
       "        vertical-align: middle;\n",
       "    }\n",
       "\n",
       "    .dataframe tbody tr th {\n",
       "        vertical-align: top;\n",
       "    }\n",
       "\n",
       "    .dataframe thead th {\n",
       "        text-align: right;\n",
       "    }\n",
       "</style>\n",
       "<table border=\"1\" class=\"dataframe\">\n",
       "  <thead>\n",
       "    <tr style=\"text-align: right;\">\n",
       "      <th></th>\n",
       "      <th>date</th>\n",
       "      <th>deaths_total</th>\n",
       "      <th>death_covid</th>\n",
       "      <th>death_covid_contrib</th>\n",
       "      <th>death_unknown_missing</th>\n",
       "      <th>prop_death_covid</th>\n",
       "      <th>death_link_covid</th>\n",
       "      <th>Death_Year</th>\n",
       "      <th>Death_Month</th>\n",
       "    </tr>\n",
       "  </thead>\n",
       "  <tbody>\n",
       "    <tr>\n",
       "      <th>0</th>\n",
       "      <td>2020-04-01</td>\n",
       "      <td>17</td>\n",
       "      <td>12</td>\n",
       "      <td>2</td>\n",
       "      <td>3</td>\n",
       "      <td>0.823529</td>\n",
       "      <td>14</td>\n",
       "      <td>2020</td>\n",
       "      <td>4</td>\n",
       "    </tr>\n",
       "    <tr>\n",
       "      <th>1</th>\n",
       "      <td>2020-04-02</td>\n",
       "      <td>30</td>\n",
       "      <td>24</td>\n",
       "      <td>2</td>\n",
       "      <td>4</td>\n",
       "      <td>0.866667</td>\n",
       "      <td>26</td>\n",
       "      <td>2020</td>\n",
       "      <td>4</td>\n",
       "    </tr>\n",
       "    <tr>\n",
       "      <th>2</th>\n",
       "      <td>2020-04-03</td>\n",
       "      <td>21</td>\n",
       "      <td>14</td>\n",
       "      <td>2</td>\n",
       "      <td>5</td>\n",
       "      <td>0.761905</td>\n",
       "      <td>16</td>\n",
       "      <td>2020</td>\n",
       "      <td>4</td>\n",
       "    </tr>\n",
       "    <tr>\n",
       "      <th>3</th>\n",
       "      <td>2020-04-04</td>\n",
       "      <td>30</td>\n",
       "      <td>23</td>\n",
       "      <td>2</td>\n",
       "      <td>5</td>\n",
       "      <td>0.833333</td>\n",
       "      <td>25</td>\n",
       "      <td>2020</td>\n",
       "      <td>4</td>\n",
       "    </tr>\n",
       "    <tr>\n",
       "      <th>4</th>\n",
       "      <td>2020-04-05</td>\n",
       "      <td>28</td>\n",
       "      <td>19</td>\n",
       "      <td>3</td>\n",
       "      <td>6</td>\n",
       "      <td>0.785714</td>\n",
       "      <td>22</td>\n",
       "      <td>2020</td>\n",
       "      <td>4</td>\n",
       "    </tr>\n",
       "  </tbody>\n",
       "</table>\n",
       "</div>"
      ],
      "text/plain": [
       "        date  deaths_total  death_covid  death_covid_contrib  \\\n",
       "0 2020-04-01            17           12                    2   \n",
       "1 2020-04-02            30           24                    2   \n",
       "2 2020-04-03            21           14                    2   \n",
       "3 2020-04-04            30           23                    2   \n",
       "4 2020-04-05            28           19                    3   \n",
       "\n",
       "   death_unknown_missing  prop_death_covid  death_link_covid  Death_Year  \\\n",
       "0                      3          0.823529                14        2020   \n",
       "1                      4          0.866667                26        2020   \n",
       "2                      5          0.761905                16        2020   \n",
       "3                      5          0.833333                25        2020   \n",
       "4                      6          0.785714                22        2020   \n",
       "\n",
       "   Death_Month  \n",
       "0            4  \n",
       "1            4  \n",
       "2            4  \n",
       "3            4  \n",
       "4            4  "
      ]
     },
     "execution_count": 78,
     "metadata": {},
     "output_type": "execute_result"
    }
   ],
   "source": [
    "all_cases.head()"
   ]
  },
  {
   "cell_type": "code",
   "execution_count": 81,
   "id": "391305d0-132e-4480-a005-06728a6a9276",
   "metadata": {},
   "outputs": [
    {
     "data": {
      "text/plain": [
       "Death_Year  Death_Month\n",
       "2020        4              42.866667\n",
       "            5              29.967742\n",
       "            6               6.766667\n",
       "            7               2.225806\n",
       "            8               0.677419\n",
       "            9               1.666667\n",
       "            10              6.677419\n",
       "            11             17.433333\n",
       "            12             31.645161\n",
       "2021        1              51.225806\n",
       "            2              22.000000\n",
       "            3              12.903226\n",
       "            4              26.000000\n",
       "            5              22.483871\n",
       "            6               6.533333\n",
       "            7               3.516129\n",
       "            8               2.000000\n",
       "            9               5.200000\n",
       "            10              4.032258\n",
       "            11              4.333333\n",
       "            12              7.677419\n",
       "2022        1              48.612903\n",
       "            2              27.535714\n",
       "            3               9.322581\n",
       "            4              13.400000\n",
       "            5              12.290323\n",
       "            6               4.800000\n",
       "            7              10.129032\n",
       "            8              12.967742\n",
       "            9              10.533333\n",
       "            10             17.645161\n",
       "            11             14.033333\n",
       "            12             10.322581\n",
       "2023        1              11.806452\n",
       "            2               7.321429\n",
       "            3               6.548387\n",
       "            4               4.033333\n",
       "            5               3.129032\n",
       "            6               1.766667\n",
       "            7               1.580645\n",
       "            8               1.870968\n",
       "            9               3.833333\n",
       "            10              5.903226\n",
       "            11              8.266667\n",
       "            12              8.161290\n",
       "2024        1               7.258065\n",
       "            2               3.068966\n",
       "            3               1.548387\n",
       "            4               1.433333\n",
       "            5               1.903226\n",
       "            6               1.166667\n",
       "            7               1.387097\n",
       "            8               2.451613\n",
       "            9               2.266667\n",
       "            10              2.709677\n",
       "            11              1.300000\n",
       "Name: death_link_covid, dtype: float64"
      ]
     },
     "execution_count": 81,
     "metadata": {},
     "output_type": "execute_result"
    }
   ],
   "source": [
    "# Summary Statistic 2: Number of deaths linked to Covid per year and month\n",
    "all_cases.groupby([all_cases['Death_Year'], all_cases['Death_Month']])['death_link_covid'].mean()"
   ]
  },
  {
   "cell_type": "code",
   "execution_count": 107,
   "id": "f0ef32a1-0be9-444a-8f7c-9da8ffd49b9c",
   "metadata": {},
   "outputs": [
    {
     "data": {
      "text/plain": [
       "<Axes: xlabel='Death_Year,Death_Month'>"
      ]
     },
     "execution_count": 107,
     "metadata": {},
     "output_type": "execute_result"
    },
    {
     "data": {
      "image/png": "[encoded data removed]",
      "text/plain": [
       "<Figure size 640x480 with 1 Axes>"
      ]
     },
     "metadata": {},
     "output_type": "display_data"
    }
   ],
   "source": [
    "# Distribution of death linked to Covid according to time\n",
    "all_cases.groupby([all_cases['Death_Year'], all_cases['Death_Month']])['death_link_covid'].mean().plot()"
   ]
  },
  {
   "cell_type": "code",
   "execution_count": 124,
   "id": "09b0f60c-ad9b-4934-a112-ad255ca9189b",
   "metadata": {},
   "outputs": [],
   "source": [
    "# Visualization with Matplotlib: Distribution of the number of cases linked to Covid19 per day\n",
    "\n",
    "import matplotlib.pyplot as plt\n",
    "import numpy as np"
   ]
  },
  {
   "cell_type": "code",
   "execution_count": 135,
   "id": "a84a6a9f-dfd7-43cf-bf07-f76f3d59e8e8",
   "metadata": {},
   "outputs": [
    {
     "data": {
      "image/png": "[encoded data removed]",
      "text/plain": [
       "<Figure size 1000x600 with 1 Axes>"
      ]
     },
     "metadata": {},
     "output_type": "display_data"
    }
   ],
   "source": [
    "data = all_cases['death_link_covid']\n",
    "\n",
    "plt.figure(figsize=(10, 6))\n",
    "plt.hist(data, bins=30, alpha=0.5, color='steelblue', edgecolor='black')\n",
    "plt.title('Figure 1: Repartition of the number of deaths linked to Covid19 per day between April 1st, 2020 and November 20th, 2024')\n",
    "plt.xlabel('Number of deaths linked to Covid/day')\n",
    "plt.ylabel('Frequency')\n",
    "plt.show()"
   ]
  },
  {
   "cell_type": "markdown",
   "id": "390807d2-9bef-48af-a8ac-15a77d080009",
   "metadata": {},
   "source": [
    "**The distribution of daily cases of Covid is assymetrical, with a lot of days where only a few deaths were linked to covid**"
   ]
  },
  {
   "cell_type": "code",
   "execution_count": null,
   "id": "48a4492b-3f70-4df6-bff0-d5c192729f1e",
   "metadata": {},
   "outputs": [],
   "source": []
  }
 ],
 "metadata": {
  "kernelspec": {
   "display_name": "Python 3 (ipykernel)",
   "language": "python",
   "name": "python3"
  },
  "language_info": {
   "codemirror_mode": {
    "name": "ipython",
    "version": 3
   },
   "file_extension": ".py",
   "mimetype": "text/x-python",
   "name": "python",
   "nbconvert_exporter": "python",
   "pygments_lexer": "ipython3",
   "version": "3.12.7"
  }
 },
 "nbformat": 4,
 "nbformat_minor": 5
}
